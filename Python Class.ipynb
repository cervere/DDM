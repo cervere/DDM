{
 "cells": [
  {
   "cell_type": "code",
   "execution_count": 1,
   "id": "4498d99d",
   "metadata": {},
   "outputs": [
    {
     "name": "stdout",
     "output_type": "stream",
     "text": [
      "x = 3, y = 8, z = 8\n"
     ]
    }
   ],
   "source": [
    "x = 8;\n",
    "y = 3;\n",
    "z = 2;\n",
    "z = x; #8\n",
    "x = y; #3\n",
    "y = z;#8\n",
    "print('x = %s, y = %s, z = %s' % (x, y, z))"
   ]
  },
  {
   "cell_type": "code",
   "execution_count": 3,
   "id": "9b3707bf",
   "metadata": {},
   "outputs": [
    {
     "name": "stdout",
     "output_type": "stream",
     "text": [
      "0\n"
     ]
    }
   ],
   "source": [
    "denominator = 4\n",
    "if denominator == 0:\n",
    "    print (\"Mere mortals cannot divide by zero.\")\n",
    "else:\n",
    "    print (1000 % denominator)"
   ]
  },
  {
   "cell_type": "code",
   "execution_count": 18,
   "id": "11076f6e",
   "metadata": {},
   "outputs": [
    {
     "name": "stdout",
     "output_type": "stream",
     "text": [
      "Systolic level : 1, Diastolic level : 2\n",
      "High Blood Pressure A\n"
     ]
    }
   ],
   "source": [
    "a = 5 \n",
    "def check_systolic(num1):\n",
    "    if num1 < 120:\n",
    "        return 0\n",
    "    elif num1 < 140:\n",
    "        return 1\n",
    "    elif num1 < 180:\n",
    "        return 2\n",
    "    else:\n",
    "        return 3\n",
    "\n",
    "def check_diastolic(num2):\n",
    "    if num2 < 80:\n",
    "        return 0\n",
    "    elif num2 < 90:\n",
    "        return 1\n",
    "    elif num2 < 110:\n",
    "        return 2\n",
    "    else:\n",
    "        return 3\n",
    "\n",
    "syst = 135\n",
    "dias = 100\n",
    "syst_level = check_systolic(syst)\n",
    "dias_level = check_diastolic(dias)\n",
    "\n",
    "print('Systolic level : %d, Diastolic level : %d' %(syst_level, dias_level))\n",
    "if syst_level == 0 and dias_level == 0:\n",
    "    print (\"Normal\")\n",
    "elif syst_level == 3 or dias_level == 3:\n",
    "    print (\"Hypertensive Crisis\")\n",
    "elif syst_level == 1:\n",
    "    if dias_level > 1:\n",
    "        print (\"High Blood Pressure A\")\n",
    "    else:\n",
    "        print (\"Prehypertension\")"
   ]
  },
  {
   "cell_type": "code",
   "execution_count": 8,
   "id": "0ddaec7d",
   "metadata": {},
   "outputs": [
    {
     "name": "stdout",
     "output_type": "stream",
     "text": [
      "0\n",
      "1\n",
      "2\n",
      "3\n",
      "4\n",
      "5\n",
      "output = None\n"
     ]
    }
   ],
   "source": [
    "def exampleReturn(num) :\n",
    "    for i in range(num): #0, 1, 2, 3, 4 ... 9\n",
    "        if (i > 5) :\n",
    "            return\n",
    "        print(i)\n",
    "    \n",
    "output = exampleReturn(10)\n",
    "print('output = %s' % output)"
   ]
  },
  {
   "cell_type": "code",
   "execution_count": null,
   "id": "b54fb1e3",
   "metadata": {},
   "outputs": [],
   "source": []
  }
 ],
 "metadata": {
  "kernelspec": {
   "display_name": "Python 3",
   "language": "python",
   "name": "python3"
  },
  "language_info": {
   "codemirror_mode": {
    "name": "ipython",
    "version": 3
   },
   "file_extension": ".py",
   "mimetype": "text/x-python",
   "name": "python",
   "nbconvert_exporter": "python",
   "pygments_lexer": "ipython3",
   "version": "3.8.2"
  }
 },
 "nbformat": 4,
 "nbformat_minor": 5
}
