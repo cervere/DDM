{
 "cells": [
  {
   "cell_type": "code",
   "execution_count": 2,
   "id": "772ff3ad",
   "metadata": {},
   "outputs": [],
   "source": [
    "import numpy as np"
   ]
  },
  {
   "cell_type": "code",
   "execution_count": 3,
   "id": "cab246fe",
   "metadata": {},
   "outputs": [],
   "source": [
    "mts = {\n",
    " \"mts1\" : [[173036, 25540], [180892, 32743 ]],\n",
    "\"mts2\" : [[173036, 30700], [179692, 37180 ]],\n",
    "\"mts3\" : [[173036, 35500], [180859, 42635 ]],\n",
    "\"mts4\" : [[173036, 40493], [179221, 46768 ]]   \n",
    "}"
   ]
  },
  {
   "cell_type": "code",
   "execution_count": 5,
   "id": "237306e2",
   "metadata": {},
   "outputs": [
    {
     "name": "stdout",
     "output_type": "stream",
     "text": [
      "mts1 10658.327495437547\n",
      "mts2 9289.388354461234\n",
      "mts3 10588.085473776646\n",
      "mts4 8810.78032866556\n"
     ]
    }
   ],
   "source": [
    "for stat in mts :\n",
    "    mtsxx = mts[stat]\n",
    "    dist = np.sqrt((mtsxx[0][0] - mtsxx[1][0])**2 + (mtsxx[0][1] - mtsxx[1][1])**2)\n",
    "    print(stat, dist)"
   ]
  },
  {
   "cell_type": "code",
   "execution_count": null,
   "id": "d9e2c131",
   "metadata": {},
   "outputs": [],
   "source": []
  }
 ],
 "metadata": {
  "kernelspec": {
   "display_name": "Python 3",
   "language": "python",
   "name": "python3"
  },
  "language_info": {
   "codemirror_mode": {
    "name": "ipython",
    "version": 3
   },
   "file_extension": ".py",
   "mimetype": "text/x-python",
   "name": "python",
   "nbconvert_exporter": "python",
   "pygments_lexer": "ipython3",
   "version": "3.8.2"
  }
 },
 "nbformat": 4,
 "nbformat_minor": 5
}
