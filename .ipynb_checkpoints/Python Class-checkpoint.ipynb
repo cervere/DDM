{
 "cells": [
  {
   "cell_type": "code",
   "execution_count": 1,
   "id": "944b2260",
   "metadata": {},
   "outputs": [
    {
     "name": "stdout",
     "output_type": "stream",
     "text": [
      "x = 3, y = 8, z = 8\n"
     ]
    }
   ],
   "source": [
    "x = 8;\n",
    "y = 3;\n",
    "z = 2;\n",
    "z = x; #8\n",
    "x = y; #3\n",
    "y = z;#8\n",
    "print('x = %s, y = %s, z = %s' % (x, y, z))"
   ]
  },
  {
   "cell_type": "code",
   "execution_count": 3,
   "id": "9a4ad879",
   "metadata": {},
   "outputs": [
    {
     "name": "stdout",
     "output_type": "stream",
     "text": [
      "0\n"
     ]
    }
   ],
   "source": [
    "denominator = 4\n",
    "if denominator == 0:\n",
    "    print (\"Mere mortals cannot divide by zero.\")\n",
    "else:\n",
    "    print (1000 % denominator)"
   ]
  },
  {
   "cell_type": "code",
   "execution_count": null,
   "id": "5d8eaf44",
   "metadata": {},
   "outputs": [],
   "source": [
    "a = 5 \n",
    "def check_systolic(num1):\n",
    "    if num1 < 120:\n",
    "        return 0\n",
    "    elif num1 < 140:\n",
    "        return 1\n",
    "    elif num1 < 180:\n",
    "        return 2\n",
    "    else:\n",
    "        return 3\n",
    "\n",
    "def check_diastolic(num2):\n",
    "    if num2 < 80:\n",
    "        return 0\n",
    "    elif num2 < 90:\n",
    "        return 1\n",
    "    elif num2 < 110:\n",
    "        return 2\n",
    "    else:\n",
    "        return 3\n",
    "\n",
    "syst = 135\n",
    "dias = 100\n",
    "if check_systolic(syst) == 0 and check_diastolic(dias) == 0:\n",
    "    print (\"Normal\")\n",
    "elif check_systolic(syst) == 3 or check_diastolic(dias) == 3:\n",
    "    print (\"Hypertensive Crisis\")\n",
    "elif check_systolic(syst) == 1:\n",
    "    if check_diastolic(dias) > 1:\n",
    "        print (\"High Blood Pressure A\")\n",
    "    else:\n",
    "        print (\"Prehypertension\")"
   ]
  },
  {
   "cell_type": "code",
   "execution_count": 4,
   "id": "bc80245c",
   "metadata": {},
   "outputs": [
    {
     "name": "stdout",
     "output_type": "stream",
     "text": [
      "[1, 4, 9, 16, 25]\n"
     ]
    }
   ],
   "source": [
    "def exampleReturn(num) :\n",
    "    for i in range(len(num)):\n",
    "        if (i > 5) :\n",
    "            return i\n",
    "        print(i)\n",
    "    \n",
    "    "
   ]
  },
  {
   "cell_type": "code",
   "execution_count": null,
   "id": "39617863",
   "metadata": {},
   "outputs": [],
   "source": []
  }
 ],
 "metadata": {
  "kernelspec": {
   "display_name": "Python 3",
   "language": "python",
   "name": "python3"
  },
  "language_info": {
   "codemirror_mode": {
    "name": "ipython",
    "version": 3
   },
   "file_extension": ".py",
   "mimetype": "text/x-python",
   "name": "python",
   "nbconvert_exporter": "python",
   "pygments_lexer": "ipython3",
   "version": "3.8.2"
  }
 },
 "nbformat": 4,
 "nbformat_minor": 5
}
